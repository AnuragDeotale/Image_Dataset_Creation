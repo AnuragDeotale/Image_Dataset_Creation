{
 "cells": [
  {
   "cell_type": "code",
   "execution_count": 102,
   "id": "33de9d3e-5cbe-43ba-9c56-c79ddbd5187c",
   "metadata": {},
   "outputs": [
    {
     "name": "stderr",
     "output_type": "stream",
     "text": [
      "100%|████████████████████████████████████████████████████████████████████████████████████████████████████████████████████| 500/500 [00:54<00:00,  9.18it/s]\n"
     ]
    }
   ],
   "source": [
    "#Importing Libraries.\n",
    "import time\n",
    "import requests\n",
    "import pandas as pd\n",
    "from tqdm import tqdm \n",
    "\n",
    "from bs4 import BeautifulSoup\n",
    "from selenium import webdriver\n",
    "\n",
    "# Selenium\n",
    "browser = webdriver.Chrome()\n",
    "browser.get('https://stockmages.netlify.app')\n",
    "\n",
    "#Now the main point of concern is what should be the stop and for the for loop. The start should be 0.\n",
    "#Finding the stop is a manual process. We should use a random number for stops and see how much scrolling takes place. If it doesn’t scroll to the bottom, we have to increase the value of the stop. \n",
    "#Infinite Scroll to reach the bottom \n",
    "for i in tqdm(range(0,500000,1000)):\n",
    "    browser.execute_script(\"window.scrollTo(0,\"  + str(i) + \")\")\n",
    "    time.sleep(.1)\n",
    "#Using this much range will lead ypu to the bottom of the path"
   ]
  },
  {
   "cell_type": "code",
   "execution_count": 123,
   "id": "95a59609-d9fa-4bc4-bd52-062d78c5a561",
   "metadata": {},
   "outputs": [
    {
     "name": "stderr",
     "output_type": "stream",
     "text": [
      "100%|███████████████████████████████████████████████████████████████████████████| 1044/1044 [00:00<00:00, 12039.21it/s]\n"
     ]
    }
   ],
   "source": [
    "# Scraping the Page\n",
    "soup = BeautifulSoup(browser.page_source,'html.parser')\n",
    "\n",
    "#Scraping the Image Details\n",
    "data = []\n",
    "for sp in tqdm(soup.find_all('div', class_ = 'container')):\n",
    "    img_link = sp.find('img').get('src')\n",
    "    tags     = sp.find('span', class_ = 'tag-color').text[7:].strip()\n",
    "    likes    = int(sp.find('div', class_ = 'likes-comments').find_all('span')[0].text.strip()[:-6])\n",
    "    comments = int(sp.find('div', class_ = 'likes-comments').find_all('span')[1].text.strip()[:-9]) \n",
    "    data.append([img_link, tags, likes, comments])\n",
    "\n",
    "#Creating a dataframe and saving it\n",
    "df = pd.DataFrame(data, columns = ['img_link', 'tags', 'likes', 'comments'])\n",
    "df.to_csv('Images.csv', index = False)"
   ]
  },
  {
   "cell_type": "code",
   "execution_count": null,
   "id": "6c4c181f-29bc-4271-9a94-77b99912ebd7",
   "metadata": {},
   "outputs": [],
   "source": []
  },
  {
   "cell_type": "code",
   "execution_count": 3,
   "id": "6c82c1c5-3b7a-4c6d-a448-0d6f65630d2e",
   "metadata": {},
   "outputs": [
    {
     "name": "stderr",
     "output_type": "stream",
     "text": [
      "100%|██████████████████████████████████████████████████████████████████████████████████████████████████████████████████| 1044/1044 [05:17<00:00,  3.28it/s]\n"
     ]
    }
   ],
   "source": [
    "from tqdm import tqdm\n",
    "import pandas as pd\n",
    "import os\n",
    "os.mkdir('Images')\n",
    "df=pd.read_csv('Images.csv')\n",
    "import requests\n",
    "def download(link,img_path):\n",
    "    res=requests.get(link)\n",
    "    fd=open(img_path,'wb')\n",
    "    fd.write(res.content)\n",
    "    fd.close()\n",
    "\n",
    "paths=[]\n",
    "img_ids=[]\n",
    "ref=100000\n",
    "i=1\n",
    "\n",
    "for link in tqdm(df['img_link']):\n",
    "    img_id='A'+str(i+ref)[1:]\n",
    "    i+=1\n",
    "    img_path='Images/'+img_id+'.jpg'\n",
    "    download(link,img_path)\n",
    "    paths.append(img_path)\n",
    "    img_ids.append(img_id)\n",
    "\n",
    "df['img_id']=img_ids\n",
    "df['img_path']=paths\n",
    "df.to_csv('Images_Description.csv',index=False)"
   ]
  },
  {
   "cell_type": "code",
   "execution_count": 5,
   "id": "0d822b53-34a6-4702-8c67-b9384df5b9b7",
   "metadata": {},
   "outputs": [
    {
     "data": {
      "text/html": [
       "<div>\n",
       "<style scoped>\n",
       "    .dataframe tbody tr th:only-of-type {\n",
       "        vertical-align: middle;\n",
       "    }\n",
       "\n",
       "    .dataframe tbody tr th {\n",
       "        vertical-align: top;\n",
       "    }\n",
       "\n",
       "    .dataframe thead th {\n",
       "        text-align: right;\n",
       "    }\n",
       "</style>\n",
       "<table border=\"1\" class=\"dataframe\">\n",
       "  <thead>\n",
       "    <tr style=\"text-align: right;\">\n",
       "      <th></th>\n",
       "      <th>img_link</th>\n",
       "      <th>tags</th>\n",
       "      <th>likes</th>\n",
       "      <th>comments</th>\n",
       "      <th>img_id</th>\n",
       "      <th>img_path</th>\n",
       "    </tr>\n",
       "  </thead>\n",
       "  <tbody>\n",
       "    <tr>\n",
       "      <th>0</th>\n",
       "      <td>https://cdn.pixabay.com/photo/2022/03/06/05/30...</td>\n",
       "      <td>Clouds, Sky, Atmosphere, Blue Sky</td>\n",
       "      <td>196</td>\n",
       "      <td>55</td>\n",
       "      <td>A00001</td>\n",
       "      <td>Images/A00001.jpg</td>\n",
       "    </tr>\n",
       "    <tr>\n",
       "      <th>1</th>\n",
       "      <td>https://cdn.pixabay.com/photo/2022/04/07/11/45...</td>\n",
       "      <td>Bird, Ornithology, Hummingbird</td>\n",
       "      <td>76</td>\n",
       "      <td>20</td>\n",
       "      <td>A00002</td>\n",
       "      <td>Images/A00002.jpg</td>\n",
       "    </tr>\n",
       "    <tr>\n",
       "      <th>2</th>\n",
       "      <td>https://cdn.pixabay.com/photo/2022/02/28/15/28...</td>\n",
       "      <td>Sea, Rainbow, Rainfall, Subtropical</td>\n",
       "      <td>282</td>\n",
       "      <td>106</td>\n",
       "      <td>A00003</td>\n",
       "      <td>Images/A00003.jpg</td>\n",
       "    </tr>\n",
       "    <tr>\n",
       "      <th>3</th>\n",
       "      <td>https://cdn.pixabay.com/photo/2022/04/04/02/52...</td>\n",
       "      <td>Cherry Blossoms, Road, Japan, Sakura</td>\n",
       "      <td>42</td>\n",
       "      <td>11</td>\n",
       "      <td>A00004</td>\n",
       "      <td>Images/A00004.jpg</td>\n",
       "    </tr>\n",
       "    <tr>\n",
       "      <th>4</th>\n",
       "      <td>https://cdn.pixabay.com/photo/2022/04/09/18/06...</td>\n",
       "      <td>Cape Marguerite, Flower, Plant</td>\n",
       "      <td>39</td>\n",
       "      <td>15</td>\n",
       "      <td>A00005</td>\n",
       "      <td>Images/A00005.jpg</td>\n",
       "    </tr>\n",
       "  </tbody>\n",
       "</table>\n",
       "</div>"
      ],
      "text/plain": [
       "                                            img_link  \\\n",
       "0  https://cdn.pixabay.com/photo/2022/03/06/05/30...   \n",
       "1  https://cdn.pixabay.com/photo/2022/04/07/11/45...   \n",
       "2  https://cdn.pixabay.com/photo/2022/02/28/15/28...   \n",
       "3  https://cdn.pixabay.com/photo/2022/04/04/02/52...   \n",
       "4  https://cdn.pixabay.com/photo/2022/04/09/18/06...   \n",
       "\n",
       "                                   tags  likes  comments  img_id  \\\n",
       "0     Clouds, Sky, Atmosphere, Blue Sky    196        55  A00001   \n",
       "1        Bird, Ornithology, Hummingbird     76        20  A00002   \n",
       "2   Sea, Rainbow, Rainfall, Subtropical    282       106  A00003   \n",
       "3  Cherry Blossoms, Road, Japan, Sakura     42        11  A00004   \n",
       "4        Cape Marguerite, Flower, Plant     39        15  A00005   \n",
       "\n",
       "            img_path  \n",
       "0  Images/A00001.jpg  \n",
       "1  Images/A00002.jpg  \n",
       "2  Images/A00003.jpg  \n",
       "3  Images/A00004.jpg  \n",
       "4  Images/A00005.jpg  "
      ]
     },
     "execution_count": 5,
     "metadata": {},
     "output_type": "execute_result"
    }
   ],
   "source": [
    "import os\n",
    "import pandas as pd\n",
    "df=pd.read_csv('Images_Description.csv')\n",
    "df.head()"
   ]
  },
  {
   "cell_type": "markdown",
   "id": "1a37a55b-3f7a-43ca-9be5-d09ed1505ec6",
   "metadata": {},
   "source": [
    "### 1. Remove Unnecessary Columns"
   ]
  },
  {
   "cell_type": "code",
   "execution_count": 7,
   "id": "3ca0395e-93a5-4fd3-81b7-db096992b72e",
   "metadata": {},
   "outputs": [
    {
     "data": {
      "text/html": [
       "<div>\n",
       "<style scoped>\n",
       "    .dataframe tbody tr th:only-of-type {\n",
       "        vertical-align: middle;\n",
       "    }\n",
       "\n",
       "    .dataframe tbody tr th {\n",
       "        vertical-align: top;\n",
       "    }\n",
       "\n",
       "    .dataframe thead th {\n",
       "        text-align: right;\n",
       "    }\n",
       "</style>\n",
       "<table border=\"1\" class=\"dataframe\">\n",
       "  <thead>\n",
       "    <tr style=\"text-align: right;\">\n",
       "      <th></th>\n",
       "      <th>tags</th>\n",
       "      <th>img_path</th>\n",
       "    </tr>\n",
       "  </thead>\n",
       "  <tbody>\n",
       "    <tr>\n",
       "      <th>0</th>\n",
       "      <td>Clouds, Sky, Atmosphere, Blue Sky</td>\n",
       "      <td>Images/A00001.jpg</td>\n",
       "    </tr>\n",
       "    <tr>\n",
       "      <th>1</th>\n",
       "      <td>Bird, Ornithology, Hummingbird</td>\n",
       "      <td>Images/A00002.jpg</td>\n",
       "    </tr>\n",
       "    <tr>\n",
       "      <th>2</th>\n",
       "      <td>Sea, Rainbow, Rainfall, Subtropical</td>\n",
       "      <td>Images/A00003.jpg</td>\n",
       "    </tr>\n",
       "    <tr>\n",
       "      <th>3</th>\n",
       "      <td>Cherry Blossoms, Road, Japan, Sakura</td>\n",
       "      <td>Images/A00004.jpg</td>\n",
       "    </tr>\n",
       "    <tr>\n",
       "      <th>4</th>\n",
       "      <td>Cape Marguerite, Flower, Plant</td>\n",
       "      <td>Images/A00005.jpg</td>\n",
       "    </tr>\n",
       "  </tbody>\n",
       "</table>\n",
       "</div>"
      ],
      "text/plain": [
       "                                   tags           img_path\n",
       "0     Clouds, Sky, Atmosphere, Blue Sky  Images/A00001.jpg\n",
       "1        Bird, Ornithology, Hummingbird  Images/A00002.jpg\n",
       "2   Sea, Rainbow, Rainfall, Subtropical  Images/A00003.jpg\n",
       "3  Cherry Blossoms, Road, Japan, Sakura  Images/A00004.jpg\n",
       "4        Cape Marguerite, Flower, Plant  Images/A00005.jpg"
      ]
     },
     "execution_count": 7,
     "metadata": {},
     "output_type": "execute_result"
    }
   ],
   "source": [
    "del df['img_link']\n",
    "del df['img_id']\n",
    "del df['likes']\n",
    "del df['comments']\n",
    "\n",
    "df.head()"
   ]
  },
  {
   "cell_type": "markdown",
   "id": "0a7629d7-58ee-4ca7-9800-8ce1935c42c9",
   "metadata": {},
   "source": [
    "### 2. Finding all the tags"
   ]
  },
  {
   "cell_type": "code",
   "execution_count": 9,
   "id": "d08f1425-e794-4d0a-aee8-932f3c2cc4c8",
   "metadata": {},
   "outputs": [],
   "source": [
    "t=[]\n",
    "for tags in (df['tags']):\n",
    "    try:\n",
    "     t+= ([tag.strip() for tag in tags.split(',')])\n",
    "    except:\n",
    "        pass\n",
    "\n",
    "for ts in t:\n",
    "    if ts=='' or ts=='nan':\n",
    "        t.remove(ts)\n",
    "\n",
    "tags=list(set(t))"
   ]
  },
  {
   "cell_type": "markdown",
   "id": "7f30ca8f-c903-4184-bb02-b93e45169549",
   "metadata": {},
   "source": [
    "### 3.Creating Folders for each Tag"
   ]
  },
  {
   "cell_type": "code",
   "execution_count": 279,
   "id": "f9ca3cd6-8a04-4632-8b0b-ee0a7a01eec0",
   "metadata": {},
   "outputs": [],
   "source": [
    "from tqdm import tqdm"
   ]
  },
  {
   "cell_type": "code",
   "execution_count": 13,
   "id": "bb022e6f-6b45-4850-8349-0759c7b90161",
   "metadata": {},
   "outputs": [
    {
     "name": "stderr",
     "output_type": "stream",
     "text": [
      "100%|████████████████████████████████████████████████████████████████████████████████████████████████████████████████| 1657/1657 [00:00<00:00, 3602.20it/s]\n"
     ]
    }
   ],
   "source": [
    "os.mkdir('Dataset')\n",
    "for tag in  tqdm(tags):\n",
    "    try:\n",
    "      os.mkdir('Dataset/'+tag)\n",
    "    except:\n",
    "        pass"
   ]
  },
  {
   "cell_type": "markdown",
   "id": "8c265433-0a3e-4c2f-b504-11b0d987b49c",
   "metadata": {},
   "source": [
    "### 4.Copying Images to Their Tag Folder"
   ]
  },
  {
   "cell_type": "code",
   "execution_count": null,
   "id": "4b30ae7d-0754-410e-8574-030c66d3fc3e",
   "metadata": {},
   "outputs": [],
   "source": [
    "import os\n",
    "import hashlib\n",
    "from shutil import copyfile as copy\n",
    "from tqdm import tqdm\n",
    "\n",
    "done=0\n",
    "error = 0\n",
    "for data in tqdm(df.values):\n",
    "    src = str('/content/Images/'+data[1].split('/')[1].strip())\n",
    "    if isinstance(data[0], str):\n",
    "        for tag in data[0].split(','):\n",
    "\n",
    "            dst = ('/content/Dataset/' +tag.strip()+ '/' + data[1].split('/')[1]).strip()\n",
    "\n",
    "            try:\n",
    "              copy(src,dst)\n",
    "              done+=1\n",
    "\n",
    "            except:\n",
    "              pass\n",
    "              error+=1\n",
    "\n",
    "print(\"Error :\",error)\n",
    "print(\"Done :\",done)"
   ]
  },
  {
   "cell_type": "markdown",
   "id": "f5341e67-14c7-4fa6-a8c1-efd3f34333c4",
   "metadata": {},
   "source": [
    "### 5.Checking No Of Folders"
   ]
  },
  {
   "cell_type": "code",
   "execution_count": null,
   "id": "4aec28af-156e-42d0-99c1-796466c2fb17",
   "metadata": {},
   "outputs": [],
   "source": [
    "folders=os.listdir('Dataset')\n",
    "print(len(folders))"
   ]
  },
  {
   "cell_type": "markdown",
   "id": "88f7f899-a2ef-4034-a9c9-299893f6eccb",
   "metadata": {},
   "source": [
    "### 6. Checking No of Images in Each Folder"
   ]
  },
  {
   "cell_type": "code",
   "execution_count": null,
   "id": "4f72acb1-144f-434c-9385-966ec6375dba",
   "metadata": {},
   "outputs": [],
   "source": [
    "folder_=[]\n",
    "freq=[]\n",
    "\n",
    "for folder in tqdm(folders):\n",
    "  try:\n",
    "    freq.append(len(os.listdir('Dataset/'+folder)))\n",
    "    folder_.append(folder)\n",
    "\n",
    "  except:\n",
    "    pass"
   ]
  },
  {
   "cell_type": "code",
   "execution_count": null,
   "id": "80d1704a-720c-496a-9701-3fb9eb3d43d7",
   "metadata": {},
   "outputs": [],
   "source": [
    "print(len(folder_))\n",
    "print(len(freq))"
   ]
  },
  {
   "cell_type": "markdown",
   "id": "1e80c932-c686-4d1f-87c7-45ff94424a54",
   "metadata": {},
   "source": [
    "### 7.Top 10 Folders with most number of Images"
   ]
  },
  {
   "cell_type": "code",
   "execution_count": null,
   "id": "32c67ce8-63d7-41c3-baa3-317f58cf0a38",
   "metadata": {},
   "outputs": [],
   "source": [
    "df_=pd.DataFrame()\n",
    "df_['Folder']=folder_\n",
    "df_['Frequency']=freq\n",
    "df_.sort_values(by='Frequency',ascending=False).head(10)"
   ]
  },
  {
   "cell_type": "markdown",
   "id": "3ad3b7cc-a17a-4b1f-b62a-82a318f4209f",
   "metadata": {},
   "source": [
    "### 8. Removing the Folders with less than 5 Images"
   ]
  },
  {
   "cell_type": "code",
   "execution_count": null,
   "id": "72b948e7-ea84-4fc9-9fe7-3d1b6dbbea86",
   "metadata": {},
   "outputs": [],
   "source": [
    "(df_['Frequency']<5).sum()"
   ]
  },
  {
   "cell_type": "code",
   "execution_count": null,
   "id": "a74a441c-160a-4339-b0a5-da469a159e33",
   "metadata": {},
   "outputs": [],
   "source": [
    "import shutil\n",
    "\n",
    "for folder in tqdm(df_['Folder'][df_['Frequency']<5]):\n",
    "  try:\n",
    "    shutil.rmtree('Dataset/'+folder)\n",
    "  except:\n",
    "    pass"
   ]
  },
  {
   "cell_type": "code",
   "execution_count": null,
   "id": "a5485580-6df8-4975-ad93-6b891a9a6328",
   "metadata": {},
   "outputs": [],
   "source": [
    "folders=os.listdir('Dataset')\n",
    "print(len(folders))"
   ]
  }
 ],
 "metadata": {
  "kernelspec": {
   "display_name": "Python 3 (ipykernel)",
   "language": "python",
   "name": "python3"
  },
  "language_info": {
   "codemirror_mode": {
    "name": "ipython",
    "version": 3
   },
   "file_extension": ".py",
   "mimetype": "text/x-python",
   "name": "python",
   "nbconvert_exporter": "python",
   "pygments_lexer": "ipython3",
   "version": "3.12.4"
  }
 },
 "nbformat": 4,
 "nbformat_minor": 5
}
